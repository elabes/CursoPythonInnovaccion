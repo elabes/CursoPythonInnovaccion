{
 "cells": [
  {
   "cell_type": "markdown",
   "metadata": {},
   "source": [
    "# "
   ]
  },
  {
   "cell_type": "markdown",
   "metadata": {},
   "source": [
    "# Ejercicio 1: Trabajar con argumentos en funciones\n"
   ]
  },
  {
   "cell_type": "code",
   "execution_count": 11,
   "metadata": {},
   "outputs": [],
   "source": [
    "def combustible_reporte(tank1, tank2, tank3):\n",
    "    promedio = (tank1 + tank2 + tank3) /3\n",
    "    return f\"\"\" Reporte de combustible:\n",
    "    Promedio total: {promedio}\n",
    "    Tanque 1: {tank1}\n",
    "    Tanque 2: {tank2}\n",
    "    Tanque 3: {tank3}\n",
    "    \"\"\"    \n"
   ]
  },
  {
   "cell_type": "code",
   "execution_count": 12,
   "metadata": {},
   "outputs": [
    {
     "name": "stdout",
     "output_type": "stream",
     "text": [
      " Reporte de combustible:\n",
      "    Promedio total: 9.0\n",
      "    Tanque 1: 6\n",
      "    Tanque 2: 9\n",
      "    Tanque 3: 12\n",
      "    \n"
     ]
    }
   ],
   "source": [
    "print(combustible_reporte(6, 9, 12))\n"
   ]
  },
  {
   "cell_type": "code",
   "execution_count": 25,
   "metadata": {},
   "outputs": [],
   "source": [
    "def promediof(valores):\n",
    "    suma_de_valores = sum(valores)\n",
    "    numero_de_valores = len(valores)\n",
    "    return suma_de_valores / numero_de_valores\n"
   ]
  },
  {
   "cell_type": "code",
   "execution_count": 39,
   "metadata": {},
   "outputs": [],
   "source": [
    "def combustible_reporte(tank1, tank2, tank3):\n",
    "    return f\"\"\" Reporte de combustible:\n",
    "    Promedio total: {promediof([tank1, tank2, tank3])}\n",
    "    Tanque 1: {tank1}\n",
    "    Tanque 2: {tank2}\n",
    "    Tanque 3: {tank3}\n",
    "    \"\"\"    "
   ]
  },
  {
   "cell_type": "code",
   "execution_count": 40,
   "metadata": {},
   "outputs": [
    {
     "data": {
      "text/plain": [
       "' Reporte de combustible:\\n    Promedio total: 2.6666666666666665\\n    Tanque 1: 1\\n    Tanque 2: 3\\n    Tanque 3: 4\\n    '"
      ]
     },
     "execution_count": 40,
     "metadata": {},
     "output_type": "execute_result"
    }
   ],
   "source": [
    "combustible_reporte(1,3,4)"
   ]
  },
  {
   "cell_type": "markdown",
   "metadata": {},
   "source": [
    "# Ejercicio 2: Trabajo con argumentos de palabra clave\n"
   ]
  },
  {
   "cell_type": "code",
   "execution_count": 65,
   "metadata": {},
   "outputs": [],
   "source": [
    "def informe(hrprelanzamiento, tiempo_vuelo, destino, tank_ext, tank_int):\n",
    "    return f\"\"\"\n",
    "    mision a {destino}\n",
    "    Tiempo de vuelo {hrprelanzamiento + tiempo_vuelo} minutos\n",
    "    Combustible restante {tank_ext + tank_int} litros\n",
    "    \"\"\"\n",
    "    "
   ]
  },
  {
   "cell_type": "code",
   "execution_count": 66,
   "metadata": {},
   "outputs": [],
   "source": [
    "def informe(destino, *minutos, **reserva_combustible):\n",
    "    return f\"\"\"\n",
    "    Mision a {destino}\n",
    "    Tiempo de vuelo {sum(minutos)} minutos\n",
    "    Combustible restante {sum(reserva_combustible.values())} litros\n",
    "    \"\"\"\n",
    "\n"
   ]
  },
  {
   "cell_type": "code",
   "execution_count": 64,
   "metadata": {},
   "outputs": [
    {
     "name": "stdout",
     "output_type": "stream",
     "text": [
      "\n",
      "    Mision a: tierra\n",
      "    Tiempo de vuelo: 8 minutos\n",
      "    Combustible restante: 8 litros\n",
      "    Tanque uno  --> 3 litros restantes\n",
      " Tanque dos  --> 5 litros restantes\n",
      " \n"
     ]
    }
   ],
   "source": [
    "def informe(destino, *minutos, **reserva_combustible):\n",
    "    informe_tankes = f\"\"\"\n",
    "    Mision a: {destino}\n",
    "    Tiempo de vuelo: {sum(minutos)} minutos\n",
    "    Combustible restante: {sum(reserva_combustible.values())} litros\n",
    "    \"\"\"\n",
    "    \n",
    "    for tankes, litros in reserva_combustible.items():\n",
    "        informe_tankes += f\"Tanque {tankes}  --> {litros} litros restantes\\n \"\n",
    "\n",
    "    return informe_tankes\n",
    "   \n",
    "\n",
    "print(informe(\"tierra\", 8, uno=3, dos=5))\n"
   ]
  }
 ],
 "metadata": {
  "interpreter": {
   "hash": "b9f9b3cc05aec3b62bdce00fdfcc369bf092dbc908d49c26953917d57a66fa2a"
  },
  "kernelspec": {
   "display_name": "Python 3.8.8 ('base')",
   "language": "python",
   "name": "python3"
  },
  "language_info": {
   "codemirror_mode": {
    "name": "ipython",
    "version": 3
   },
   "file_extension": ".py",
   "mimetype": "text/x-python",
   "name": "python",
   "nbconvert_exporter": "python",
   "pygments_lexer": "ipython3",
   "version": "3.8.8"
  },
  "orig_nbformat": 4
 },
 "nbformat": 4,
 "nbformat_minor": 2
}

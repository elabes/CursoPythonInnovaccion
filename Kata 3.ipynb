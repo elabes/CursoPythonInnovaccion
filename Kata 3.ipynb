{
 "cells": [
  {
   "cell_type": "markdown",
   "metadata": {},
   "source": [
    "# Ejercicio No. 1"
   ]
  },
  {
   "cell_type": "code",
   "execution_count": 23,
   "metadata": {},
   "outputs": [
    {
     "name": "stdout",
     "output_type": "stream",
     "text": [
      "¡Advertencia! Un asteroide se acerca a la tierra a una velocidad de 49 km/s\n"
     ]
    }
   ],
   "source": [
    "VelAster = 49\n",
    "if VelAster > 25:\n",
    "    print (\"¡Advertencia! Un asteroide se acerca a la tierra a una velocidad de \" + str(VelAster) + \" km/s\")"
   ]
  },
  {
   "cell_type": "markdown",
   "metadata": {},
   "source": [
    "# Ejercicio No. 2\n"
   ]
  },
  {
   "cell_type": "code",
   "execution_count": 24,
   "metadata": {},
   "outputs": [
    {
     "name": "stdout",
     "output_type": "stream",
     "text": [
      "No hay estrellas fugaces cerca\n"
     ]
    }
   ],
   "source": [
    "VelAster = 19\n",
    "if VelAster > 20:\n",
    "    print (\"!Mira al cielo! Veras una estrella fugaz\")\n",
    "\n",
    "elif VelAster == 20:\n",
    "    print (\"!Mira al cielo! Veras una estrella fugaz\")\n",
    "\n",
    "else:\n",
    "    print (\"No hay estrellas fugaces cerca\")"
   ]
  },
  {
   "cell_type": "markdown",
   "metadata": {},
   "source": [
    "# Ejercicio No. 3"
   ]
  },
  {
   "cell_type": "code",
   "execution_count": 22,
   "metadata": {},
   "outputs": [
    {
     "name": "stdout",
     "output_type": "stream",
     "text": [
      "Asteoride aproximandose a 20km/s, pude observar su estela de luz en el cielo.\n"
     ]
    }
   ],
   "source": [
    "VelAster = 20\n",
    "TamAster = 1\n",
    "\n",
    "if TamAster > 25 and TamAster < 1000:\n",
    "    print(\"!Advertencia! Amenaza de asteroide, su tamaño es de \" + str(TamAster) + \" metros.\")\n",
    "\n",
    "elif VelAster > 25:\n",
    "    print (\"!Advertencia! Asteroide aproximandose a una velocidad de \" +str(VelAster) + \" km/s.\")\n",
    "\n",
    "elif VelAster >= 20:\n",
    "    print(\"Asteoride aproximandose a \" + str(VelAster) + \"km/s\" + \", pude observar su estela de luz en el cielo.\" )\n",
    "\n",
    "else:\n",
    "    print(\"No hay amenzasas de asteroide, ten un buen dia.\")"
   ]
  }
 ],
 "metadata": {
  "interpreter": {
   "hash": "b9f9b3cc05aec3b62bdce00fdfcc369bf092dbc908d49c26953917d57a66fa2a"
  },
  "kernelspec": {
   "display_name": "Python 3.8.8 ('base')",
   "language": "python",
   "name": "python3"
  },
  "language_info": {
   "codemirror_mode": {
    "name": "ipython",
    "version": 3
   },
   "file_extension": ".py",
   "mimetype": "text/x-python",
   "name": "python",
   "nbconvert_exporter": "python",
   "pygments_lexer": "ipython3",
   "version": "3.9.10"
  },
  "orig_nbformat": 4
 },
 "nbformat": 4,
 "nbformat_minor": 2
}
